{
 "cells": [
  {
   "cell_type": "code",
   "execution_count": 1,
   "metadata": {
    "scrolled": true
   },
   "outputs": [
    {
     "name": "stderr",
     "output_type": "stream",
     "text": [
      "2024-12-10 10:31:22.803461: I tensorflow/core/util/port.cc:113] oneDNN custom operations are on. You may see slightly different numerical results due to floating-point round-off errors from different computation orders. To turn them off, set the environment variable `TF_ENABLE_ONEDNN_OPTS=0`.\n",
      "2024-12-10 10:31:22.845455: E external/local_xla/xla/stream_executor/cuda/cuda_dnn.cc:9373] Unable to register cuDNN factory: Attempting to register factory for plugin cuDNN when one has already been registered\n",
      "2024-12-10 10:31:22.845489: E external/local_xla/xla/stream_executor/cuda/cuda_fft.cc:607] Unable to register cuFFT factory: Attempting to register factory for plugin cuFFT when one has already been registered\n",
      "2024-12-10 10:31:22.846573: E external/local_xla/xla/stream_executor/cuda/cuda_blas.cc:1534] Unable to register cuBLAS factory: Attempting to register factory for plugin cuBLAS when one has already been registered\n",
      "2024-12-10 10:31:22.852974: I tensorflow/core/platform/cpu_feature_guard.cc:183] This TensorFlow binary is optimized to use available CPU instructions in performance-critical operations.\n",
      "To enable the following instructions: SSE3 SSE4.1 SSE4.2 AVX, in other operations, rebuild TensorFlow with the appropriate compiler flags.\n"
     ]
    }
   ],
   "source": [
    "import matplotlib.pyplot as plt\n",
    "from sklearn.cluster import KMeans\n",
    "from sklearn.metrics import silhouette_score, silhouette_samples, davies_bouldin_score\n",
    "import tensorflow as tf\n",
    "from sklearn.model_selection import train_test_split\n",
    "from tensorflow.keras.preprocessing.image import ImageDataGenerator\n",
    "from tensorflow.keras.models import Sequential \n",
    "from tensorflow.keras.layers import Dense,MaxPooling2D,Dropout,Flatten,BatchNormalization,Conv2D\n"
   ]
  },
  {
   "cell_type": "markdown",
   "metadata": {},
   "source": [
    "# Importing and Visualizing Data\n",
    "Data is downloaded to home directory. "
   ]
  },
  {
   "cell_type": "markdown",
   "metadata": {},
   "source": [
    "Using Kaggle instead"
   ]
  },
  {
   "cell_type": "code",
   "execution_count": 2,
   "metadata": {},
   "outputs": [
    {
     "name": "stdout",
     "output_type": "stream",
     "text": [
      "Path to dataset files: /home/minam/.cache/kagglehub/datasets/jessicali9530/stanford-dogs-dataset/versions/2\n"
     ]
    }
   ],
   "source": [
    "# !pip install kagglehub\n",
    "# This one takes 3 minutes\n",
    "import kagglehub\n",
    "\n",
    "# Download latest version\n",
    "path = kagglehub.dataset_download(\"jessicali9530/stanford-dogs-dataset\")\n",
    "\n",
    "print(\"Path to dataset files:\", path)"
   ]
  },
  {
   "cell_type": "code",
   "execution_count": 3,
   "metadata": {},
   "outputs": [],
   "source": [
    "import numpy as np\n",
    "import os\n",
    "import pandas as pd\n",
    "\n",
    "# Loading data into the memory is not efficient since it doesn't have enough memory for that much data\n",
    "# Load filenames into dataframe instead\n",
    "\n",
    "images = []\n",
    "\n",
    "labels = []\n",
    "\n",
    "label_count = 0\n",
    "\n",
    "images_path = path + r\"/images/Images/\"\n",
    "\n",
    "for label in os.listdir(images_path):\n",
    "    label_path = images_path + label + \"/\"\n",
    "    label_count += 1\n",
    "    for file in os.listdir(label_path):\n",
    "        images.append(label_path + file)\n",
    "        labels.append(label.split('-')[1])\n",
    "\n",
    "df = pd.DataFrame({\"image_path\" : images, \"label\": labels})\n",
    "\n",
    "df = df[:738]"
   ]
  },
  {
   "cell_type": "code",
   "execution_count": 4,
   "metadata": {},
   "outputs": [
    {
     "data": {
      "text/plain": [
       "label\n",
       "Maltese_dog         252\n",
       "Japanese_spaniel    185\n",
       "Chihuahua           152\n",
       "Pekinese            149\n",
       "Name: count, dtype: int64"
      ]
     },
     "execution_count": 4,
     "metadata": {},
     "output_type": "execute_result"
    }
   ],
   "source": [
    "df.value_counts('label')"
   ]
  },
  {
   "cell_type": "code",
   "execution_count": 5,
   "metadata": {},
   "outputs": [
    {
     "data": {
      "text/plain": [
       "(738, 2)"
      ]
     },
     "execution_count": 5,
     "metadata": {},
     "output_type": "execute_result"
    }
   ],
   "source": [
    "df.shape"
   ]
  },
  {
   "cell_type": "code",
   "execution_count": 6,
   "metadata": {},
   "outputs": [
    {
     "name": "stdout",
     "output_type": "stream",
     "text": [
      "The shape of train data (590, 2)\n",
      "The shape of test data (74, 2)\n",
      "The shape of validation data (74, 2)\n"
     ]
    }
   ],
   "source": [
    "X_train, X_temp = train_test_split(df, test_size=0.2, stratify=df[\"label\"], random_state = 42)\n",
    "\n",
    "label_test_val = X_temp['label']\n",
    "\n",
    "# 10%.   10%\n",
    "X_test, X_val = train_test_split(X_temp, test_size=0.5, stratify=label_test_val, random_state = 42)\n",
    "\n",
    "print('The shape of train data',X_train.shape)\n",
    "print('The shape of test data',X_test.shape)\n",
    "print('The shape of validation data',X_val.shape)"
   ]
  },
  {
   "cell_type": "code",
   "execution_count": 7,
   "metadata": {},
   "outputs": [],
   "source": [
    "# parameters\n",
    "image_size = 255 # Size of the image\n",
    "image_channel = 3 # Colour scale (RGB)\n",
    "bat_size = 64 # Number of files/images processed at once"
   ]
  },
  {
   "cell_type": "code",
   "execution_count": 8,
   "metadata": {},
   "outputs": [
    {
     "name": "stdout",
     "output_type": "stream",
     "text": [
      "Found 590 validated image filenames belonging to 4 classes.\n",
      "Found 74 validated image filenames belonging to 4 classes.\n",
      "Found 74 validated image filenames belonging to 4 classes.\n"
     ]
    }
   ],
   "source": [
    "# Applyingimage data gernerator to train and test data\n",
    "datagen = ImageDataGenerator(\n",
    "            validation_split=0.2,\n",
    "            rescale=1./255, # to bring the image range from 0..255 to 0..1\n",
    "            rotation_range=0,  # randomly rotate images in the range (degrees, 0 to 180)\n",
    "            zoom_range = 0, # randomly zoom image \n",
    "            width_shift_range=0,  # randomly shift images horizontally (fraction of total width)\n",
    "            height_shift_range=0,  # randomly shift images vertically (fraction of total height)\n",
    "            horizontal_flip=False,  # randomly flip images\n",
    "            vertical_flip=False) # randomly flip images\n",
    "\n",
    "train_generator = datagen.flow_from_dataframe(X_train,\n",
    "                                                    x_col= 'image_path',\n",
    "                                                    y_col= 'label',\n",
    "                                                    batch_size = bat_size,\n",
    "                                                    target_size = (image_size,image_size),\n",
    "                                                    class_mode=\"categorical\",\n",
    "                                                   )\n",
    "val_generator = datagen.flow_from_dataframe(X_val, \n",
    "                                                 x_col= 'image_path',\n",
    "                                                 y_col= 'label',\n",
    "                                                 batch_size = bat_size,\n",
    "                                                 target_size = (image_size,image_size),\n",
    "                                                 shuffle=False,\n",
    "                                                 class_mode=\"categorical\",\n",
    "                                                )\n",
    "\n",
    "test_generator = datagen.flow_from_dataframe(X_test, \n",
    "                                                  x_col= 'image_path',\n",
    "                                                  y_col= 'label',\n",
    "                                                  batch_size = bat_size,\n",
    "                                                  target_size = (image_size,image_size),\n",
    "                                                  shuffle=False,\n",
    "                                                  class_mode=\"categorical\",\n",
    "                                                 )"
   ]
  },
  {
   "cell_type": "code",
   "execution_count": 9,
   "metadata": {},
   "outputs": [],
   "source": [
    "# use the data generator\n",
    "num_classes = len(test_generator.class_indices)"
   ]
  },
  {
   "cell_type": "code",
   "execution_count": null,
   "metadata": {},
   "outputs": [],
   "source": [
    "import matplotlib.pyplot as plt\n",
    "\n",
    "plt.figure(figsize=(10,8))\n",
    "#Plots our figures\n",
    "for i in range(1,5):\n",
    "  plt.subplot(1, 4, i)\n",
    "  batch = next(test_generator)\n",
    "  image_ = batch[0][0]\n",
    "  plt.imshow(image_)\n",
    "plt.show()"
   ]
  },
  {
   "cell_type": "markdown",
   "metadata": {},
   "source": [
    "# CNN\n",
    "Everything after this is specific to Convolutional Nueral Networks but you can try to look at how it is set up."
   ]
  },
  {
   "cell_type": "code",
   "execution_count": 11,
   "metadata": {},
   "outputs": [
    {
     "name": "stdout",
     "output_type": "stream",
     "text": [
      "Model: \"sequential\"\n",
      "_________________________________________________________________\n",
      " Layer (type)                Output Shape              Param #   \n",
      "=================================================================\n",
      " conv2d (Conv2D)             (None, 253, 253, 32)      896       \n",
      "                                                                 \n",
      " max_pooling2d (MaxPooling2  (None, 126, 126, 32)      0         \n",
      " D)                                                              \n",
      "                                                                 \n",
      " dropout (Dropout)           (None, 126, 126, 32)      0         \n",
      "                                                                 \n",
      " flatten (Flatten)           (None, 508032)            0         \n",
      "                                                                 \n",
      " dropout_1 (Dropout)         (None, 508032)            0         \n",
      "                                                                 \n",
      " dense (Dense)               (None, 4)                 2032132   \n",
      "                                                                 \n",
      "=================================================================\n",
      "Total params: 2033028 (7.76 MB)\n",
      "Trainable params: 2033028 (7.76 MB)\n",
      "Non-trainable params: 0 (0.00 Byte)\n",
      "_________________________________________________________________\n"
     ]
    },
    {
     "name": "stderr",
     "output_type": "stream",
     "text": [
      "2024-12-10 10:31:26.725566: I tensorflow/core/common_runtime/gpu/gpu_device.cc:1926] Created device /job:localhost/replica:0/task:0/device:GPU:0 with 13750 MB memory:  -> device: 0, name: Tesla T4, pci bus id: 0000:60:00.0, compute capability: 7.5\n"
     ]
    }
   ],
   "source": [
    "model = Sequential()\n",
    "\n",
    "# Input Layer\n",
    "model.add(Conv2D(32,(3,3),activation='relu',input_shape = (image_size,image_size,image_channel))) \n",
    "\n",
    "model.add(MaxPooling2D(pool_size=(2,2)))\n",
    "model.add(Dropout(0.2))\n",
    "\n",
    "# Fully Connected layers \n",
    "model.add(Flatten())\n",
    "model.add(Dropout(0.2))\n",
    "\n",
    "# Output layer\n",
    "model.add(Dense(num_classes,activation='softmax')) # Softmax for binary classification\n",
    "\n",
    "model.summary()"
   ]
  },
  {
   "cell_type": "code",
   "execution_count": 12,
   "metadata": {},
   "outputs": [],
   "source": [
    "from tensorflow.keras.optimizers import SGD\n",
    "\n",
    "model.compile(optimizer=SGD(learning_rate=0.001, momentum=0.9), loss='binary_crossentropy', metrics=['accuracy'])"
   ]
  },
  {
   "cell_type": "code",
   "execution_count": 13,
   "metadata": {},
   "outputs": [
    {
     "data": {
      "text/plain": [
       "(255, 255)"
      ]
     },
     "execution_count": 13,
     "metadata": {},
     "output_type": "execute_result"
    }
   ],
   "source": [
    "train_generator.target_size"
   ]
  },
  {
   "cell_type": "code",
   "execution_count": 14,
   "metadata": {
    "scrolled": true
   },
   "outputs": [
    {
     "name": "stdout",
     "output_type": "stream",
     "text": [
      "Epoch 1/25\n"
     ]
    },
    {
     "name": "stderr",
     "output_type": "stream",
     "text": [
      "2024-12-10 10:31:27.977703: E tensorflow/core/grappler/optimizers/meta_optimizer.cc:1021] layout failed: INVALID_ARGUMENT: Size of values 0 does not match size of permutation 4 @ fanin shape insequential/dropout/dropout/SelectV2-2-TransposeNHWCToNCHW-LayoutOptimizer\n",
      "2024-12-10 10:31:28.304522: I external/local_xla/xla/stream_executor/cuda/cuda_dnn.cc:467] Loaded cuDNN version 90100\n",
      "2024-12-10 10:31:29.946771: I external/local_xla/xla/service/service.cc:168] XLA service 0x7f0de51a0f10 initialized for platform CUDA (this does not guarantee that XLA will be used). Devices:\n",
      "2024-12-10 10:31:29.946808: I external/local_xla/xla/service/service.cc:176]   StreamExecutor device (0): Tesla T4, Compute Capability 7.5\n",
      "WARNING: All log messages before absl::InitializeLog() is called are written to STDERR\n",
      "I0000 00:00:1733844690.012848 2795981 device_compiler.h:186] Compiled cluster using XLA!  This line is logged at most once for the lifetime of the process.\n"
     ]
    },
    {
     "name": "stdout",
     "output_type": "stream",
     "text": [
      "10/10 [==============================] - 7s 377ms/step - loss: 0.6235 - accuracy: 0.3068 - val_loss: 0.5885 - val_accuracy: 0.2162\n",
      "Epoch 2/25\n",
      "10/10 [==============================] - 2s 204ms/step - loss: 0.5717 - accuracy: 0.3254 - val_loss: 0.5419 - val_accuracy: 0.3378\n",
      "Epoch 3/25\n",
      "10/10 [==============================] - 2s 212ms/step - loss: 0.5207 - accuracy: 0.4356 - val_loss: 0.5088 - val_accuracy: 0.4459\n",
      "Epoch 4/25\n",
      "10/10 [==============================] - 2s 236ms/step - loss: 0.5008 - accuracy: 0.4864 - val_loss: 0.5084 - val_accuracy: 0.4054\n",
      "Epoch 5/25\n",
      "10/10 [==============================] - 2s 211ms/step - loss: 0.4933 - accuracy: 0.4898 - val_loss: 0.5136 - val_accuracy: 0.4189\n",
      "Epoch 6/25\n",
      "10/10 [==============================] - 2s 216ms/step - loss: 0.4811 - accuracy: 0.5169 - val_loss: 0.4979 - val_accuracy: 0.4595\n",
      "Epoch 7/25\n",
      "10/10 [==============================] - 2s 208ms/step - loss: 0.4684 - accuracy: 0.5458 - val_loss: 0.4813 - val_accuracy: 0.4865\n",
      "Epoch 8/25\n",
      "10/10 [==============================] - 2s 210ms/step - loss: 0.4599 - accuracy: 0.5424 - val_loss: 0.4849 - val_accuracy: 0.4730\n",
      "Epoch 9/25\n",
      "10/10 [==============================] - 2s 205ms/step - loss: 0.4573 - accuracy: 0.5627 - val_loss: 0.4914 - val_accuracy: 0.4730\n",
      "Epoch 10/25\n",
      "10/10 [==============================] - 2s 200ms/step - loss: 0.4586 - accuracy: 0.5576 - val_loss: 0.4798 - val_accuracy: 0.4865\n",
      "Epoch 11/25\n",
      "10/10 [==============================] - 2s 203ms/step - loss: 0.4507 - accuracy: 0.5780 - val_loss: 0.5042 - val_accuracy: 0.5270\n",
      "Epoch 12/25\n",
      "10/10 [==============================] - 2s 213ms/step - loss: 0.4368 - accuracy: 0.5881 - val_loss: 0.4799 - val_accuracy: 0.5270\n",
      "Epoch 13/25\n",
      "10/10 [==============================] - 2s 210ms/step - loss: 0.4259 - accuracy: 0.6169 - val_loss: 0.4777 - val_accuracy: 0.5135\n",
      "Epoch 14/25\n",
      "10/10 [==============================] - 2s 204ms/step - loss: 0.4215 - accuracy: 0.6305 - val_loss: 0.4963 - val_accuracy: 0.5405\n",
      "Epoch 15/25\n",
      "10/10 [==============================] - 2s 215ms/step - loss: 0.4220 - accuracy: 0.6034 - val_loss: 0.4916 - val_accuracy: 0.5270\n",
      "Epoch 16/25\n",
      "10/10 [==============================] - 2s 242ms/step - loss: 0.4180 - accuracy: 0.6322 - val_loss: 0.4776 - val_accuracy: 0.5270\n",
      "Epoch 17/25\n",
      "10/10 [==============================] - 2s 220ms/step - loss: 0.3991 - accuracy: 0.6559 - val_loss: 0.4703 - val_accuracy: 0.5541\n",
      "Epoch 18/25\n",
      "10/10 [==============================] - 2s 208ms/step - loss: 0.3919 - accuracy: 0.6746 - val_loss: 0.4739 - val_accuracy: 0.5676\n",
      "Epoch 19/25\n",
      "10/10 [==============================] - 2s 230ms/step - loss: 0.3861 - accuracy: 0.6712 - val_loss: 0.4750 - val_accuracy: 0.5811\n",
      "Epoch 20/25\n",
      "10/10 [==============================] - 2s 212ms/step - loss: 0.3850 - accuracy: 0.6695 - val_loss: 0.4720 - val_accuracy: 0.5676\n",
      "Epoch 21/25\n",
      "10/10 [==============================] - 2s 212ms/step - loss: 0.3857 - accuracy: 0.6644 - val_loss: 0.4745 - val_accuracy: 0.5541\n",
      "Epoch 22/25\n",
      "10/10 [==============================] - 2s 202ms/step - loss: 0.3847 - accuracy: 0.6695 - val_loss: 0.4748 - val_accuracy: 0.5541\n",
      "Epoch 23/25\n",
      "10/10 [==============================] - 2s 208ms/step - loss: 0.3750 - accuracy: 0.6797 - val_loss: 0.4844 - val_accuracy: 0.5270\n",
      "Epoch 24/25\n",
      "10/10 [==============================] - 2s 211ms/step - loss: 0.3742 - accuracy: 0.6814 - val_loss: 0.4794 - val_accuracy: 0.5270\n",
      "Epoch 25/25\n",
      "10/10 [==============================] - 2s 211ms/step - loss: 0.3749 - accuracy: 0.6814 - val_loss: 0.4699 - val_accuracy: 0.5000\n"
     ]
    }
   ],
   "source": [
    "fitted = model.fit(train_generator,\n",
    "                    validation_data = val_generator, \n",
    "                    epochs = 25,\n",
    "                    steps_per_epoch = len(train_generator),\n",
    "                    validation_steps = len(val_generator),\n",
    "                   )"
   ]
  },
  {
   "cell_type": "code",
   "execution_count": 15,
   "metadata": {
    "scrolled": true
   },
   "outputs": [
    {
     "data": {
      "image/png": "[encoded data removed]",
      "text/plain": [
       "<Figure size 640x480 with 1 Axes>"
      ]
     },
     "metadata": {},
     "output_type": "display_data"
    }
   ],
   "source": [
    "history = model.history\n",
    "\n",
    "plt.plot(history.history[\"accuracy\"])\n",
    "plt.plot(history.history[\"val_accuracy\"])\n",
    "plt.title('model accuracy')\n",
    "plt.ylabel('accuracy')\n",
    "plt.xlabel('epochs')\n",
    "plt.legend(['train', 'validation'], loc='upper left')\n",
    "plt.show()"
   ]
  },
  {
   "cell_type": "markdown",
   "metadata": {},
   "source": [
    "# Using Classical Machine Learning\n",
    "We will be using KMeans in order to try to classify the dog breeds. It probably won't perform well. \n",
    "\n",
    "As a start, we should pick the least well classified breeds and try to get the best scores we can before moving to DNN and CNNs. The image shows the best accuracies achieved in each breed. We will be trying to get the best in the bottom, say 5. \n",
    "\n",
    "![image](bar_graph_full.png)"
   ]
  },
  {
   "cell_type": "code",
   "execution_count": 16,
   "metadata": {},
   "outputs": [],
   "source": [
    "import numpy as np\n",
    "import matplotlib.pyplot as plt\n",
    "from sklearn.cluster import KMeans\n",
    "from sklearn.metrics import adjusted_rand_score, confusion_matrix\n",
    "import seaborn as sns\n",
    "from tensorflow.keras.preprocessing.image import ImageDataGenerator\n",
    "import pandas as pd\n",
    "from sklearn.model_selection import train_test_split\n",
    "from tensorflow.keras.preprocessing import image\n",
    "\n",
    "image_size = 255\n",
    "bat_size = 32"
   ]
  },
  {
   "cell_type": "code",
   "execution_count": 17,
   "metadata": {},
   "outputs": [],
   "source": [
    "def extract_images(generator):\n",
    "    images = []\n",
    "    labels = []\n",
    "    for i, (image_batch, label_batch) in enumerate(generator):\n",
    "        images.append(image_batch)\n",
    "        labels.append(label_batch)\n",
    "        if len(images) >= generator.samples:\n",
    "            break\n",
    "    images = np.vstack(images)\n",
    "    labels = np.vstack(labels)\n",
    "    return images, labels "
   ]
  },
  {
   "cell_type": "code",
   "execution_count": 18,
   "metadata": {},
   "outputs": [],
   "source": [
    "X_images, y_labels = extract_images(train_generator) \n",
    "\n",
    "X_flattened = X_images.reshape(X_images.shape[0], -1)"
   ]
  },
  {
   "cell_type": "code",
   "execution_count": null,
   "metadata": {},
   "outputs": [],
   "source": [
    "kmeans = KMeans(n_clusters=num_classes, random_state=42) \n",
    "kmeans.fit(X_flattened)"
   ]
  },
  {
   "cell_type": "code",
   "execution_count": null,
   "metadata": {},
   "outputs": [],
   "source": [
    "cluster_centers_reshaped = kmeans.cluster_centers_.reshape(num_classes, image_size, image_size, 3)\n",
    "plt.figure(figsize=(10, 5))\n",
    "for i in range(10):\n",
    "    plt.subplot(2, 5, i+1)\n",
    "    plt.imshow(cluster_centers_reshaped[i])\n",
    "    plt.title(f\"Cluster {i}\")\n",
    "    plt.axis('off')\n",
    "plt.show()"
   ]
  },
  {
   "cell_type": "code",
   "execution_count": null,
   "metadata": {},
   "outputs": [],
   "source": [
    "y_pred_train = kmeans.predict(X_flattened)\n",
    "ari_train = adjusted_rand_score(np.argmax(y_labels, axis=1), y_pred_train)"
   ]
  },
  {
   "cell_type": "code",
   "execution_count": null,
   "metadata": {},
   "outputs": [],
   "source": [
    "conf_matrix_train = confusion_matrix(np.argmax(y_labels, axis=1), y_pred_train)\n",
    "plt.figure(figsize=(8, 6))\n",
    "sns.heatmap(conf_matrix_train, annot=True, fmt=\"d\", cmap=\"Blues\", xticklabels=range(num_classes), yticklabels=range(4))\n",
    "plt.title('Confusion Matrix for KMeans Clusters on Training Data')\n",
    "plt.xlabel('Predicted Clusters')\n",
    "plt.ylabel('True Labels')\n",
    "plt.show()"
   ]
  },
  {
   "cell_type": "code",
   "execution_count": null,
   "metadata": {},
   "outputs": [],
   "source": [
    "X_test_images, y_test_labels = extract_images(test_generator)\n",
    "\n",
    "X_test_flattened = X_test_images.reshape(X_test_images.shape[0], -1)\n",
    "\n",
    "y_pred_test = kmeans.predict(X_test_flattened)\n",
    "\n",
    "ari_test = adjusted_rand_score(np.argmax(y_test_labels, axis=1), y_pred_test)\n",
    "\n",
    "print(f\"Adjusted Rand Index (ARI) on the test data: {ari_test:.4f}\")"
   ]
  },
  {
   "cell_type": "code",
   "execution_count": null,
   "metadata": {},
   "outputs": [],
   "source": [
    "conf_matrix_test = confusion_matrix(np.argmax(y_test_labels, axis=1), y_pred_test)\n",
    "plt.figure(figsize=(8, 6))\n",
    "sns.heatmap(conf_matrix_test, annot=True, fmt=\"d\", cmap=\"Blues\", xticklabels=range(num_classes), yticklabels=range(4))\n",
    "plt.title('Confusion Matrix for KMeans Clusters on Test Data')\n",
    "plt.xlabel('Predicted Clusters')\n",
    "plt.ylabel('True Labels')\n",
    "plt.show()\n"
   ]
  },
  {
   "cell_type": "code",
   "execution_count": null,
   "metadata": {},
   "outputs": [],
   "source": [
    "y_pred_test = kmeans.predict(X_test_flattened)\n",
    "\n",
    "conf_matrix = confusion_matrix(np.argmax(y_test_labels, axis=1), y_pred_test)\n",
    "\n",
    "cluster_to_label_mapping = np.argmax(conf_matrix, axis=1)\n",
    "\n",
    "\n",
    "y_pred_mapped = np.array([None if cluster >= len(cluster_to_label_mapping) else cluster_to_label_mapping[cluster] for cluster in y_pred_test])\n",
    "\n",
    "accuracy = np.mean(y_pred_mapped == np.argmax(y_test_labels, axis=1))\n",
    "\n",
    "print(f\"Accuracy of KMeans clustering: {accuracy:.4f}\")"
   ]
  },
  {
   "cell_type": "code",
   "execution_count": null,
   "metadata": {},
   "outputs": [],
   "source": []
  }
 ],
 "metadata": {
  "kernelspec": {
   "display_name": "Python 3 (ipykernel)",
   "language": "python",
   "name": "python3"
  },
  "language_info": {
   "codemirror_mode": {
    "name": "ipython",
    "version": 3
   },
   "file_extension": ".py",
   "mimetype": "text/x-python",
   "name": "python",
   "nbconvert_exporter": "python",
   "pygments_lexer": "ipython3",
   "version": "3.10.12"
  }
 },
 "nbformat": 4,
 "nbformat_minor": 2
}
